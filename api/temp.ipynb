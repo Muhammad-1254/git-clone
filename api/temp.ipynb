{
 "cells": [
  {
   "cell_type": "code",
   "execution_count": null,
   "metadata": {},
   "outputs": [],
   "source": [
    "import tiktoken\n",
    "\n",
    "encoding = tiktoken.encoding_for_model(\"gpt-3.5-turbo\")\n",
    "\n",
    "enc = encoding.encode(\"tiktoken is great!\")\n",
    "\n",
    "print(f'enc: {enc}')\n",
    "def num_tokens_from_string(string: str, encoding_name: str) -> int:\n",
    "    \"\"\"Returns the number of tokens in a text string.\"\"\"\n",
    "    encoding = tiktoken.get_encoding(encoding_name)\n",
    "    num_tokens = len(encoding.encode(string))\n",
    "    return num_tokens\n",
    "\n",
    "print(num_tokens_from_string(\"tiktoken is great!\", \"cl100k_base\"))\n"
   ]
  },
  {
   "cell_type": "code",
   "execution_count": 9,
   "metadata": {},
   "outputs": [
    {
     "name": "stdout",
     "output_type": "stream",
     "text": [
      "{'age': '0'}\n"
     ]
    }
   ],
   "source": [
    "a = {'name':'usman', 'age':'0'}\n",
    "del a['name']\n",
    "print(a)"
   ]
  },
  {
   "cell_type": "code",
   "execution_count": 5,
   "metadata": {},
   "outputs": [
    {
     "name": "stdout",
     "output_type": "stream",
     "text": [
      "temp: [{'date': '2024-01-19T10:15:00.123456'}, {'date': '2024-01-20T12:30:00.123456'}, {'date': '2024-01-21T01:39:44.076843', 'temp': ''}, {'date': '2024-01-22T08:45:30.987654'}]\n"
     ]
    }
   ],
   "source": [
    "# sort date \n",
    "from datetime import datetime\n",
    "\n",
    "data = [\n",
    "   {'date': '2024-01-21T01:39:44.076843', 'temp':''},\n",
    " {'date': '2024-01-20T12:30:00.123456'},\n",
    " {'date': '2024-01-22T08:45:30.987654'},\n",
    " {'date': '2024-01-19T10:15:00.123456'},\n",
    "]\n",
    "\n",
    "temp = sorted(data, key=lambda x: x['date'])\n",
    "print(f'temp: {temp}')\n",
    "\n",
    "\n",
    "# # Convert date strings to datetime objects\n",
    "# for key, value in data.items():\n",
    "#     value['date'] = datetime.fromisoformat(value['date'])\n",
    "\n",
    "# # Sort the dictionary by date\n",
    "# sorted_data = dict(sorted(data.items(), key=lambda x: x[1]['date']))\n",
    "\n",
    "# # Print the sorted dictionary\n",
    "# for key, value in sorted_data.items():\n",
    "#     print(f\"{key}: {value['date']}\")\n",
    "    \n",
    "    \n",
    "\n"
   ]
  },
  {
   "cell_type": "code",
   "execution_count": 1,
   "metadata": {},
   "outputs": [
    {
     "name": "stderr",
     "output_type": "stream",
     "text": [
      "C:\\Users\\3TEE\\AppData\\Local\\Temp\\ipykernel_2064\\404493102.py:27: DeprecationWarning: Due to a bug, this method doesn't actually stream the response content, `.with_streaming_response.method()` should be used instead\n",
      "  response.astream_to_file('output.mp3')\n"
     ]
    },
    {
     "data": {
      "text/plain": [
       "<coroutine object HttpxBinaryResponseContent.astream_to_file at 0x0000017BD1CED250>"
      ]
     },
     "execution_count": 1,
     "metadata": {},
     "output_type": "execute_result"
    }
   ],
   "source": [
    "from dotenv import find_dotenv, load_dotenv\n",
    "\n",
    "from openai import OpenAI\n",
    "\n",
    "# streaming voice from openai tss by fast api\n",
    "\n",
    "_ = load_dotenv(find_dotenv())  # read local .env file\n",
    "\n",
    "client = OpenAI()\n",
    "\n",
    "input =\"\"\"The information you provided seems to be related to Next.js, a React framework for building web applications. However, as of my last knowledge update in January 2022, I don't have specific details about the \"createContext\" function you mentioned or the \"use client\" directive in Next.js.\n",
    "\n",
    "# However, based on the context,it seems like \"createContext\" might be a reference to the React createContext function, which is used for creating a context object in React. Context provides a way to pass data through the component tree without having to pass props down manually at every level.\n",
    "\n",
    "# In the provided message, it's mentioned that createContext works only in client components and that you need to add the \"use client\" directive at the top of the file to use it. This suggests that there might be some server-side rendering (SSR) considerations or limitations when working with context in certain components. The link provided in the message directs you to the Next.js documentation for more information.\n",
    "\n",
    "# If you are working with Next.js,I recommend checking the latest Next.js documentation for any updates or changes related to context, \"createContext,\" and the \"use client\" directive. The information might have evolved since my last update.\"\"\"\n",
    "    # input=\"Hello world! This is a new streaming test streaming test.\",\n",
    "\n",
    "response = client.audio.speech.create(\n",
    "    model=\"tts-1\",\n",
    "    voice=\"alloy\",\n",
    " input=input,\n",
    " response_format='opus',\n",
    ")\n",
    "\n",
    "\n"
   ]
  },
  {
   "cell_type": "code",
   "execution_count": 2,
   "metadata": {},
   "outputs": [],
   "source": [
    "# streaming voice from openai tss by fast api\n",
    "\n",
    "from fastapi import FastAPI \n",
    "from fastapi.responses import StreamingResponse\n",
    "import uvicorn\n",
    "\n",
    "app =FastAPI()\n",
    "\n",
    "\n",
    "def read_audio(file_path):\n",
    "    with open(file_path, 'rb') as f:\n",
    "        data = f.read()\n",
    "    return data\n",
    "\n",
    "\n",
    "\n",
    "app.get('/get_voice')\n",
    "async def get_voice():\n",
    "    return StreamingResponse(read_audio('output.mp3'), media_type='audio/mp3')\n",
    "\n",
    "if __name__ == '__main__':\n",
    "    import uvicorn\n",
    "    uvicorn.run(app='temp.', host='0.0.0.0', port=8000, reload=True)"
   ]
  },
  {
   "cell_type": "markdown",
   "metadata": {},
   "source": []
  }
 ],
 "metadata": {
  "kernelspec": {
   "display_name": "venv",
   "language": "python",
   "name": "python3"
  },
  "language_info": {
   "codemirror_mode": {
    "name": "ipython",
    "version": 3
   },
   "file_extension": ".py",
   "mimetype": "text/x-python",
   "name": "python",
   "nbconvert_exporter": "python",
   "pygments_lexer": "ipython3",
   "version": "3.11.5"
  }
 },
 "nbformat": 4,
 "nbformat_minor": 2
}
